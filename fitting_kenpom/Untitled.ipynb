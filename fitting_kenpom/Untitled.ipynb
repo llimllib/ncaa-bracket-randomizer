{
 "cells": [
  {
   "cell_type": "code",
   "execution_count": 6,
   "id": "a30684e6",
   "metadata": {},
   "outputs": [],
   "source": [
    "import csv\n",
    "import json\n",
    "import re\n",
    "\n",
    "import pandas as pd\n",
    "import numpy as np\n",
    "import scipy\n",
    "import matplotlib.pyplot as plt\n",
    "from scipy.optimize import curve_fit"
   ]
  },
  {
   "cell_type": "code",
   "execution_count": 3,
   "id": "1a983a99",
   "metadata": {},
   "outputs": [
    {
     "data": {
      "text/plain": [
       "{'Houston': 93.8,\n",
       " 'Alabama': 97.6,\n",
       " 'UCLA': 94.6,\n",
       " 'Purdue': 98.3,\n",
       " 'Texas': 88.8,\n",
       " 'Tennessee': 84.1,\n",
       " 'Connecticut': 80.1,\n",
       " 'Gonzaga': 87.0,\n",
       " 'Arizona': 87.0,\n",
       " 'Kansas': 95.4,\n",
       " 'Marquette': 83.7,\n",
       " \"Saint Mary's\": 69.3,\n",
       " 'Creighton': 67.7,\n",
       " 'San Diego St.': 70.4,\n",
       " 'Baylor': 78.3,\n",
       " 'Xavier': 85.0,\n",
       " 'Kansas St.': 78.4,\n",
       " 'Utah St.': 62.4,\n",
       " 'Iowa St.': 62.3,\n",
       " 'Duke': 62.7,\n",
       " 'Kentucky': 57.3,\n",
       " 'West Virginia': 51.8,\n",
       " 'Texas A&M': 57.6,\n",
       " 'Indiana': 63.4,\n",
       " 'Memphis': 51.2,\n",
       " 'Maryland': 48.2,\n",
       " 'Arkansas': 55.5,\n",
       " 'Virginia': 67.7,\n",
       " 'Florida Atlantic': 48.8,\n",
       " 'Michigan St.': 52.6,\n",
       " 'Auburn': 54.7,\n",
       " 'TCU': 60.8,\n",
       " 'Boise St.': 55.4,\n",
       " 'USC': 47.4,\n",
       " 'Miami FL': 55.9,\n",
       " 'Providence': 42.7,\n",
       " 'Iowa': 45.3,\n",
       " 'Illinois': 44.5,\n",
       " 'Penn St.': 42.4,\n",
       " 'Northwestern': 44.6,\n",
       " 'Missouri': 37.6,\n",
       " 'N.C. State': 32.3,\n",
       " 'Drake': 44.1,\n",
       " 'Mississippi St.': 23.0,\n",
       " 'Oral Roberts': 37.3,\n",
       " 'Nevada': 23.4,\n",
       " 'Kent St.': 36.6,\n",
       " 'VCU': 30.7,\n",
       " 'Charleston': 29.6,\n",
       " 'Iona': 19.9,\n",
       " 'Arizona St.': 15.8,\n",
       " 'Pittsburgh': 14.7,\n",
       " 'Furman': 32.3,\n",
       " 'Louisiana': 15.9,\n",
       " 'UC Santa Barbara': 21.7,\n",
       " 'Montana St.': 21.6,\n",
       " 'Vermont': 16.3,\n",
       " 'Grand Canyon': 13.0,\n",
       " 'Princeton': 13.0,\n",
       " 'Colgate': 11.2,\n",
       " 'Kennesaw St.': 15.0,\n",
       " 'Northern Kentucky': 6.2,\n",
       " 'UNC Asheville': 5.4,\n",
       " 'Texas A&M Corpus Chris': 2.2,\n",
       " 'Howard': 4.6,\n",
       " 'Texas Southern': 1.1,\n",
       " 'Southeast Missouri St.': 0.3,\n",
       " 'Fairleigh Dickinson': 0.6}"
      ]
     },
     "execution_count": 12,
     "metadata": {},
     "output_type": "execute_result"
    }
   ],
   "source": [
    "probs = \"\"\"1MW Houston                 93.8   71.6   56.7   38.6   23.5   15.0   \n",
    " 1S  Alabama                 97.6   69.8   52.2   35.8   23.4   13.5   \n",
    " 2W  UCLA                    94.6   71.1   46.5   29.0   17.3   10.6   \n",
    " 1E  Purdue                  98.3   63.4   36.7   23.5   12.7    6.3   \n",
    " 2MW Texas                   88.8   60.4   39.8   21.3   11.0    6.0   \n",
    " 4E  Tennessee               84.1   57.7   32.1   20.7   11.3    5.7   \n",
    " 4W  Connecticut             80.1   51.1   31.0   16.4    9.0    5.1   \n",
    " 3W  Gonzaga                 87.0   60.3   30.1   16.6    8.7    4.7   \n",
    " 2S  Arizona                 87.0   56.4   34.0   16.7    9.0    4.1   \n",
    " 1W  Kansas                  95.4   60.8   31.6   15.1    7.5    3.8   \n",
    " 2E  Marquette               83.7   53.2   33.1   16.1    7.7    3.3   \n",
    " 5W  Saint Mary's            69.3   33.5   17.5    7.9    3.8    1.8   \n",
    " 6S  Creighton               67.7   39.1   20.0    8.7    4.2    1.7   \n",
    " 5S  San Diego St.           70.4   45.2   17.4    8.7    4.2    1.7   \n",
    " 3S  Baylor                  78.3   42.4   20.9    8.8    4.1    1.6   \n",
    " 3MW Xavier                  85.0   49.3   22.6    9.6    3.8    1.6   \n",
    " 3E  Kansas St.              78.4   42.9   20.8    8.4    3.3    1.1   \n",
    "10S  Utah St.                62.4   28.0   14.1    5.6    2.5    0.9   \n",
    " 6MW Iowa St.                62.3   32.4   14.0    5.6    2.1    0.9   \n",
    " 5E  Duke                    62.7   26.2   10.8    5.4    2.2    0.8   \n",
    " 6E  Kentucky                57.3   31.3   14.9    5.9    2.2    0.8   \n",
    " 9S  West Virginia           51.8   15.7    8.7    4.1    1.8    0.7   \n",
    " 7MW Texas A&M               57.6   22.9   11.7    4.7    1.7    0.7   \n",
    " 4MW Indiana                 63.4   37.1   12.2    5.2    1.8    0.7   \n",
    " 8E  Memphis                 51.2   18.9    8.3    4.2    1.7    0.6   \n",
    " 8S  Maryland                48.2   14.2    7.7    3.5    1.5    0.6   \n",
    " 8W  Arkansas                55.5   22.8    9.4    3.5    1.4    0.5   \n",
    " 4S  Virginia                67.7   32.1    9.9    4.1    1.6    0.5   \n",
    " 9E  Florida Atlantic        48.8   17.7    7.7    3.8    1.5    0.5   \n",
    " 7E  Michigan St.            52.6   23.0   11.5    4.3    1.5    0.5   \n",
    " 9MW Auburn                  54.7   15.9    9.0    3.8    1.3    0.5   \n",
    " 6W  TCU                     60.8   24.1    8.6    3.4    1.3    0.5   \n",
    "10W  Boise St.               55.4   16.4    6.7    2.6    0.9    0.3   \n",
    "10E  USC                     47.4   19.4    9.2    3.2    1.0    0.3   \n",
    " 5MW Miami FL                55.9   27.3    7.6    2.8    0.8    0.3   \n",
    "11E  Providence              42.7   20.2    8.1    2.7    0.8    0.2   \n",
    " 8MW Iowa                    45.3   11.4    5.9    2.2    0.7    0.2   \n",
    " 9W  Illinois                44.5   16.0    5.9    1.9    0.7    0.2   \n",
    "10MW Penn St.                42.4   14.1    6.1    2.1    0.6    0.2   \n",
    " 7W  Northwestern            44.6   11.4    4.1    1.3    0.4    0.1   \n",
    " 7S  Missouri                37.6   12.5    4.8    1.4    0.5    0.1   \n",
    "11S  N.C. State              32.3   13.2    4.4    1.2    0.4    0.10  \n",
    "12MW Drake                   44.1   19.1    4.6    1.5    0.4    0.10  \n",
    "11MW Mississippi St.         23.0    9.8    3.3    1.0    0.3    0.09  \n",
    "12E  Oral Roberts            37.3   11.2    3.2    1.2    0.3    0.08  \n",
    "11W  Nevada                  23.4    7.8    2.3    0.8    0.2    0.07  \n",
    "13MW Kent St.                36.6   16.5    3.7    1.1    0.3    0.06  \n",
    "12W  VCU                     30.7    8.8    2.8    0.7    0.2    0.06  \n",
    "12S  Charleston              29.6   13.4    2.7    0.8    0.2    0.04  \n",
    "13W  Iona                    19.9    6.6    1.9    0.4    0.1    0.03  \n",
    "11W  Arizona St.             15.8    4.4    1.1    0.3    0.08   0.02  \n",
    "11MW Pittsburgh              14.7    5.2    1.4    0.4    0.08   0.02  \n",
    "13S  Furman                  32.3    9.3    1.4    0.3    0.08   0.01  \n",
    "13E  Louisiana               15.9    4.9    1.0    0.2    0.05   0.007 \n",
    "14S  UC Santa Barbara        21.7    5.3    1.1    0.2    0.04   0.005 \n",
    "14E  Montana St.             21.6    5.6    1.2    0.2    0.03   0.005 \n",
    "15E  Vermont                 16.3    4.3    1.1    0.2    0.03   0.004 \n",
    "14W  Grand Canyon            13.0    3.5    0.5    0.09   0.01   0.002 \n",
    "15S  Princeton               13.0    3.1    0.7    0.1    0.02   0.002 \n",
    "15MW Colgate                 11.2    2.7    0.6    0.1    0.01   0.001 \n",
    "14MW Kennesaw St.            15.0    3.4    0.5    0.06   0.008  <.001 \n",
    "16MW Northern Kentucky        6.2    1.1    0.2    0.03   0.003  <.001 \n",
    "15W  UNC Asheville            5.4    1.0    0.1    0.01   0.002  <.001 \n",
    "16S  Texas A&M Corpus Chris   2.2    0.3    0.04   0.004  <.001  <.001 \n",
    "16W  Howard                   4.6    0.4    0.03   0.002  <.001  <.001 \n",
    "16E  Texas Southern           1.1    0.04   0.001  <.001  <.001  <.001 \n",
    "16S  Southeast Missouri St.   0.3    0.01   <.001  <.001  <.001  <.001 \n",
    "16E  Fairleigh Dickinson      0.6    0.01   <.001  <.001  <.001  <.001 \"\"\"\n",
    "frprobs = dict((t.strip(), float(p)) for t, p in re.findall(\"[E|W|S]\\s*(.*?)(\\d+\\.\\d)\", probs))\n",
    "frprobs[:4]"
   ]
  },
  {
   "cell_type": "code",
   "execution_count": 19,
   "id": "1f2533b9",
   "metadata": {},
   "outputs": [
    {
     "data": {
      "text/plain": [
       "([('Purdue', 'Texas Southern'),\n",
       "  ('Alabama', 'Texas A&M Corpus Christi'),\n",
       "  ('Houston', 'Northern Kentucky'),\n",
       "  ('Kansas', 'Howard'),\n",
       "  ('Marquette', 'Vermont'),\n",
       "  ('Arizona', 'Princeton'),\n",
       "  ('Texas', 'Colgate'),\n",
       "  ('UCLA', 'UNC Asheville'),\n",
       "  ('Kansas St.', 'Montana St.'),\n",
       "  ('Baylor', 'UC Santa Barbara'),\n",
       "  ('Xavier', 'Kennesaw St.'),\n",
       "  ('Gonzaga', 'Grand Canyon'),\n",
       "  ('Tennessee', 'Louisiana'),\n",
       "  ('Virginia', 'Furman'),\n",
       "  ('Indiana', 'Kent St.'),\n",
       "  ('Connecticut', 'Iona'),\n",
       "  ('Duke', 'Oral Roberts'),\n",
       "  ('San Diego St.', 'Charleston'),\n",
       "  ('Miami FL', 'Drake'),\n",
       "  (\"Saint Mary's\", 'VCU'),\n",
       "  ('Kentucky', 'Providence'),\n",
       "  ('Creighton', 'N.C. State'),\n",
       "  ('Iowa St.', 'Mississippi St.'),\n",
       "  ('TCU', 'Arizona St.'),\n",
       "  ('Michigan St.', 'USC'),\n",
       "  ('Missouri', 'Utah St.'),\n",
       "  ('Texas A&M', 'Penn St.'),\n",
       "  ('Northwestern', 'Boise St.'),\n",
       "  ('Memphis', 'Florida Atlantic'),\n",
       "  ('Maryland', 'West Virginia'),\n",
       "  ('Iowa', 'Auburn'),\n",
       "  ('Arkansas', 'Illinois')],\n",
       " 32)"
      ]
     },
     "execution_count": 19,
     "metadata": {},
     "output_type": "execute_result"
    }
   ],
   "source": [
    "bracket = json.load(open(\"bracket23.json\"))\n",
    "rd1 = [(bracket[region][str(seed)], bracket[region][str(17-seed)]) for seed in range(1,9) for region in ['east', 'south', 'midwest', 'west']]\n",
    "rd1, len(rd1)"
   ]
  },
  {
   "cell_type": "code",
   "execution_count": 28,
   "id": "84e1b841",
   "metadata": {},
   "outputs": [
    {
     "data": {
      "text/plain": [
       "[('Purdue', 'Texas Southern', 34.456360000000004, 98.3),\n",
       " ('Alabama', 'Texas A&M Corpus Christi', 27.137496, 97.6),\n",
       " ('Houston', 'Northern Kentucky', 29.34515, 93.8),\n",
       " ('Kansas', 'Howard', 26.34594, 95.4),\n",
       " ('Marquette', 'Vermont', 16.40085, 83.7),\n",
       " ('Arizona', 'Princeton', 18.033559999999998, 87.0),\n",
       " ('Texas', 'Colgate', 19.31653, 88.8),\n",
       " ('UCLA', 'UNC Asheville', 26.131870000000003, 94.6),\n",
       " ('Kansas St.', 'Montana St.', 12.540949999999999, 78.4),\n",
       " ('Baylor', 'UC Santa Barbara', 13.323730000000001, 78.3),\n",
       " ('Xavier', 'Kennesaw St.', 16.07777, 85.0),\n",
       " ('Gonzaga', 'Grand Canyon', 18.30949, 87.0),\n",
       " ('Tennessee', 'Louisiana', 16.4878, 84.1),\n",
       " ('Virginia', 'Furman', 8.02309, 67.7),\n",
       " ('Indiana', 'Kent St.', 5.418099999999999, 63.4),\n",
       " ('Connecticut', 'Iona', 13.677800000000001, 80.1),\n",
       " ('Duke', 'Oral Roberts', 5.194599999999998, 62.7),\n",
       " ('San Diego St.', 'Charleston', 8.5356, 70.4),\n",
       " ('Miami FL', 'Drake', 2.4029999999999987, 55.9),\n",
       " (\"Saint Mary's\", 'VCU', 9.5065, 69.3),\n",
       " ('Kentucky', 'Providence', 3.0810000000000013, 57.3),\n",
       " ('Creighton', 'N.C. State', 7.3263, 67.7),\n",
       " ('Iowa St.', 'Mississippi St.', 4.261700000000001, 62.3),\n",
       " ('TCU', 'Arizona St.', 5.686300000000001, 60.8),\n",
       " ('Michigan St.', 'USC', 1.0508999999999986, 52.6),\n",
       " ('Missouri', 'Utah St.', -5.0077, 37.6),\n",
       " ('Texas A&M', 'Penn St.', 4.016400000000001, 57.6),\n",
       " ('Northwestern', 'Boise St.', -2.3592000000000013, 44.6),\n",
       " ('Memphis', 'Florida Atlantic', -0.4916000000000018, 51.2),\n",
       " ('Maryland', 'West Virginia', -0.7837999999999994, 48.2),\n",
       " ('Iowa', 'Auburn', -1.8079999999999998, 45.3),\n",
       " ('Arkansas', 'Illinois', 2.177599999999998, 55.5)]"
      ]
     },
     "execution_count": 28,
     "metadata": {},
     "output_type": "execute_result"
    }
   ],
   "source": [
    "kenpom = {t['TeamName']: t for t in list(csv.DictReader(open(\"kenpom23.csv\")))}\n",
    "data = [(a, b, float(kenpom[a]['AdjEM']) - float(kenpom[b]['AdjEM']), frprobs[a]) for a, b in rd1]\n",
    "data"
   ]
  },
  {
   "cell_type": "code",
   "execution_count": 29,
   "id": "264a0bd5-74c2-49d5-a7f8-8806c1fdeed3",
   "metadata": {},
   "outputs": [
    {
     "data": {
      "text/plain": [
       "<matplotlib.collections.PathCollection at 0x16d9ac850>"
      ]
     },
     "execution_count": 29,
     "metadata": {},
     "output_type": "execute_result"
    },
    {
     "data": {
      "image/png": "[encoded data removed]",
      "text/plain": [
       "<Figure size 432x288 with 1 Axes>"
      ]
     },
     "metadata": {
      "needs_background": "light"
     },
     "output_type": "display_data"
    }
   ],
   "source": [
    "diffs = [x[2] for x in data]\n",
    "winProb = [x[3] for x in data]\n",
    "plt.scatter(diffs, winProb)"
   ]
  },
  {
   "cell_type": "code",
   "execution_count": 30,
   "id": "b1d124d7-3f69-4992-97ff-33d0746bfbb9",
   "metadata": {},
   "outputs": [],
   "source": [
    "# https://docs.scipy.org/doc/scipy/reference/generated/scipy.optimize.curve_fit.html\n",
    "# the function to fit\n",
    "def func(x, a, b, c):\n",
    "    return a * np.exp(-b * x) + c"
   ]
  },
  {
   "cell_type": "code",
   "execution_count": 41,
   "id": "0d44d6f4-7172-48a5-8d85-eaa7a62321da",
   "metadata": {},
   "outputs": [],
   "source": [
    "popt, pcov = curve_fit(func, diffs, winProb)"
   ]
  },
  {
   "cell_type": "code",
   "execution_count": 32,
   "id": "c8d5daec-1c88-4ef5-bf9d-81882fb09d55",
   "metadata": {},
   "outputs": [
    {
     "data": {
      "image/png": "[encoded data removed]",
      "text/plain": [
       "<Figure size 432x288 with 1 Axes>"
      ]
     },
     "metadata": {
      "needs_background": "light"
     },
     "output_type": "display_data"
    }
   ],
   "source": [
    "plt.scatter(diffs, winProb)\n",
    "xvals = np.linspace(0, 35, 100)\n",
    "plt.plot(xvals, func(xvals, *popt), 'g--', label='fit: a=%5.3f, b=%5.3f, c=%5.3f' % tuple(popt))\n",
    "plt.xlabel('rating differential')\n",
    "plt.ylabel('win probability')\n",
    "plt.show()"
   ]
  },
  {
   "cell_type": "code",
   "execution_count": 42,
   "id": "79e6ae8e-2de3-4f2e-9e93-0ecd51fdef92",
   "metadata": {},
   "outputs": [
    {
     "data": {
      "text/plain": [
       "array([-6.80512162e+01,  3.96407147e-02,  1.18560240e+02])"
      ]
     },
     "execution_count": 42,
     "metadata": {},
     "output_type": "execute_result"
    }
   ],
   "source": [
    "popt"
   ]
  },
  {
   "cell_type": "markdown",
   "id": "162c1caf-44ff-492c-80f1-3d8a934e51b3",
   "metadata": {},
   "source": [
    "last year it was: `array([-0.66888151,  0.04322173,  1.16116838])`\n",
    "\n",
    "```\n",
    "-68.0512162 * exp(rating_differential * 0.0396407147) + 118.56024\n",
    "```"
   ]
  },
  {
   "cell_type": "code",
   "execution_count": 40,
   "id": "a00ce54e-ba52-4647-971f-e96d72e15983",
   "metadata": {},
   "outputs": [
    {
     "data": {
      "text/plain": [
       "[-68.05, 0.04, 118.56]"
      ]
     },
     "execution_count": 40,
     "metadata": {},
     "output_type": "execute_result"
    }
   ],
   "source": [
    "list(map(lambda x: round(x, 2), popt))"
   ]
  },
  {
   "cell_type": "code",
   "execution_count": null,
   "id": "938ca0e6-b8b1-44af-8586-0adccfbd1ab7",
   "metadata": {},
   "outputs": [],
   "source": []
  }
 ],
 "metadata": {
  "kernelspec": {
   "display_name": "Python 3 (ipykernel)",
   "language": "python",
   "name": "python3"
  },
  "language_info": {
   "codemirror_mode": {
    "name": "ipython",
    "version": 3
   },
   "file_extension": ".py",
   "mimetype": "text/x-python",
   "name": "python",
   "nbconvert_exporter": "python",
   "pygments_lexer": "ipython3",
   "version": "3.12.2"
  }
 },
 "nbformat": 4,
 "nbformat_minor": 5
}
