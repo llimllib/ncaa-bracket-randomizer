{
 "cells": [
  {
   "cell_type": "code",
   "execution_count": 1,
   "id": "2ce82d07",
   "metadata": {},
   "outputs": [],
   "source": [
    "import pandas as pd\n",
    "import numpy as np\n",
    "import scipy\n",
    "import matplotlib.pyplot as plt\n",
    "from scipy.optimize import curve_fit"
   ]
  },
  {
   "cell_type": "code",
   "execution_count": 2,
   "id": "a46b43f7",
   "metadata": {},
   "outputs": [
    {
     "data": {
      "text/html": [
       "<div>\n",
       "<style scoped>\n",
       "    .dataframe tbody tr th:only-of-type {\n",
       "        vertical-align: middle;\n",
       "    }\n",
       "\n",
       "    .dataframe tbody tr th {\n",
       "        vertical-align: top;\n",
       "    }\n",
       "\n",
       "    .dataframe thead th {\n",
       "        text-align: right;\n",
       "    }\n",
       "</style>\n",
       "<table border=\"1\" class=\"dataframe\">\n",
       "  <thead>\n",
       "    <tr style=\"text-align: right;\">\n",
       "      <th></th>\n",
       "      <th>ratingDiff</th>\n",
       "      <th>marginOfVictory</th>\n",
       "      <th>winProb</th>\n",
       "      <th>fav</th>\n",
       "      <th>dog</th>\n",
       "    </tr>\n",
       "  </thead>\n",
       "  <tbody>\n",
       "    <tr>\n",
       "      <th>Georgia St.-Gonzaga</th>\n",
       "      <td>31.13</td>\n",
       "      <td>22</td>\n",
       "      <td>0.98</td>\n",
       "      <td>Gonzaga</td>\n",
       "      <td>Georgia St.</td>\n",
       "    </tr>\n",
       "    <tr>\n",
       "      <th>Kentucky-Saint Peter's</th>\n",
       "      <td>22.31</td>\n",
       "      <td>15</td>\n",
       "      <td>0.91</td>\n",
       "      <td>Kentucky</td>\n",
       "      <td>Saint Peter's</td>\n",
       "    </tr>\n",
       "    <tr>\n",
       "      <th>Houston-UAB</th>\n",
       "      <td>12.47</td>\n",
       "      <td>8</td>\n",
       "      <td>0.77</td>\n",
       "      <td>Houston</td>\n",
       "      <td>UAB</td>\n",
       "    </tr>\n",
       "    <tr>\n",
       "      <th>Baylor-Norfolk St.</th>\n",
       "      <td>26.17</td>\n",
       "      <td>18</td>\n",
       "      <td>0.94</td>\n",
       "      <td>Baylor</td>\n",
       "      <td>Norfolk St.</td>\n",
       "    </tr>\n",
       "    <tr>\n",
       "      <th>Longwood-Tennessee</th>\n",
       "      <td>22.76</td>\n",
       "      <td>15</td>\n",
       "      <td>0.92</td>\n",
       "      <td>Tennessee</td>\n",
       "      <td>Longwood</td>\n",
       "    </tr>\n",
       "    <tr>\n",
       "      <th>Akron-UCLA</th>\n",
       "      <td>21.36</td>\n",
       "      <td>13</td>\n",
       "      <td>0.88</td>\n",
       "      <td>UCLA</td>\n",
       "      <td>Akron</td>\n",
       "    </tr>\n",
       "    <tr>\n",
       "      <th>Montana St.-Texas Tech</th>\n",
       "      <td>20.83</td>\n",
       "      <td>14</td>\n",
       "      <td>0.9</td>\n",
       "      <td>Texas Tech</td>\n",
       "      <td>Montana St.</td>\n",
       "    </tr>\n",
       "    <tr>\n",
       "      <th>Auburn-Jacksonville St.</th>\n",
       "      <td>22.21</td>\n",
       "      <td>15</td>\n",
       "      <td>0.91</td>\n",
       "      <td>Auburn</td>\n",
       "      <td>Jacksonville St.</td>\n",
       "    </tr>\n",
       "    <tr>\n",
       "      <th>Delaware-Villanova</th>\n",
       "      <td>21.83</td>\n",
       "      <td>14</td>\n",
       "      <td>0.89</td>\n",
       "      <td>Villanova</td>\n",
       "      <td>Delaware</td>\n",
       "    </tr>\n",
       "    <tr>\n",
       "      <th>Cal St. Fullerton-Duke</th>\n",
       "      <td>21.61</td>\n",
       "      <td>14</td>\n",
       "      <td>0.9</td>\n",
       "      <td>Duke</td>\n",
       "      <td>Cal St. Fullerton</td>\n",
       "    </tr>\n",
       "    <tr>\n",
       "      <th>Iowa-Richmond</th>\n",
       "      <td>13.71</td>\n",
       "      <td>9</td>\n",
       "      <td>0.81</td>\n",
       "      <td>Iowa</td>\n",
       "      <td>Richmond</td>\n",
       "    </tr>\n",
       "    <tr>\n",
       "      <th>Purdue-Yale</th>\n",
       "      <td>20.06</td>\n",
       "      <td>13</td>\n",
       "      <td>0.89</td>\n",
       "      <td>Purdue</td>\n",
       "      <td>Yale</td>\n",
       "    </tr>\n",
       "    <tr>\n",
       "      <th>Texas-Virginia Tech</th>\n",
       "      <td>2.55</td>\n",
       "      <td>1</td>\n",
       "      <td>0.56</td>\n",
       "      <td>Texas</td>\n",
       "      <td>Virginia Tech</td>\n",
       "    </tr>\n",
       "    <tr>\n",
       "      <th>Chattanooga-Illinois</th>\n",
       "      <td>8.32</td>\n",
       "      <td>5</td>\n",
       "      <td>0.69</td>\n",
       "      <td>Illinois</td>\n",
       "      <td>Chattanooga</td>\n",
       "    </tr>\n",
       "    <tr>\n",
       "      <th>Connecticut-New Mexico St.</th>\n",
       "      <td>9.23</td>\n",
       "      <td>6</td>\n",
       "      <td>0.71</td>\n",
       "      <td>Connecticut</td>\n",
       "      <td>New Mexico St.</td>\n",
       "    </tr>\n",
       "    <tr>\n",
       "      <th>Iowa St.-LSU</th>\n",
       "      <td>5.13</td>\n",
       "      <td>3</td>\n",
       "      <td>0.62</td>\n",
       "      <td>LSU</td>\n",
       "      <td>Iowa St.</td>\n",
       "    </tr>\n",
       "    <tr>\n",
       "      <th>Arkansas-Vermont</th>\n",
       "      <td>5.95</td>\n",
       "      <td>4</td>\n",
       "      <td>0.64</td>\n",
       "      <td>Arkansas</td>\n",
       "      <td>Vermont</td>\n",
       "    </tr>\n",
       "    <tr>\n",
       "      <th>Murray St.-San Francisco</th>\n",
       "      <td>1.98</td>\n",
       "      <td>1</td>\n",
       "      <td>0.55</td>\n",
       "      <td>San Francisco</td>\n",
       "      <td>Murray St.</td>\n",
       "    </tr>\n",
       "    <tr>\n",
       "      <th>Creighton-San Diego St.</th>\n",
       "      <td>4.68</td>\n",
       "      <td>3</td>\n",
       "      <td>0.61</td>\n",
       "      <td>San Diego St.</td>\n",
       "      <td>Creighton</td>\n",
       "    </tr>\n",
       "    <tr>\n",
       "      <th>Loyola Chicago-Ohio St.</th>\n",
       "      <td>1.87</td>\n",
       "      <td>1</td>\n",
       "      <td>0.54</td>\n",
       "      <td>Loyola Chicago</td>\n",
       "      <td>Ohio St.</td>\n",
       "    </tr>\n",
       "    <tr>\n",
       "      <th>Boise St.-Memphis</th>\n",
       "      <td>0.19</td>\n",
       "      <td>1</td>\n",
       "      <td>0.5</td>\n",
       "      <td>Boise St.</td>\n",
       "      <td>Memphis</td>\n",
       "    </tr>\n",
       "    <tr>\n",
       "      <th>Marquette-North Carolina</th>\n",
       "      <td>2.04</td>\n",
       "      <td>2</td>\n",
       "      <td>0.55</td>\n",
       "      <td>North Carolina</td>\n",
       "      <td>Marquette</td>\n",
       "    </tr>\n",
       "    <tr>\n",
       "      <th>Colorado St.-Michigan</th>\n",
       "      <td>0.21</td>\n",
       "      <td>1</td>\n",
       "      <td>0.5</td>\n",
       "      <td>Colorado St.</td>\n",
       "      <td>Michigan</td>\n",
       "    </tr>\n",
       "    <tr>\n",
       "      <th>Colgate-Wisconsin</th>\n",
       "      <td>11.36</td>\n",
       "      <td>7</td>\n",
       "      <td>0.75</td>\n",
       "      <td>Wisconsin</td>\n",
       "      <td>Colgate</td>\n",
       "    </tr>\n",
       "    <tr>\n",
       "      <th>Seton Hall-TCU</th>\n",
       "      <td>0.06</td>\n",
       "      <td>1</td>\n",
       "      <td>0.5</td>\n",
       "      <td>Seton Hall</td>\n",
       "      <td>TCU</td>\n",
       "    </tr>\n",
       "    <tr>\n",
       "      <th>Indiana-Wyoming</th>\n",
       "      <td>1.84</td>\n",
       "      <td>1</td>\n",
       "      <td>0.54</td>\n",
       "      <td>Indiana</td>\n",
       "      <td>Wyoming</td>\n",
       "    </tr>\n",
       "    <tr>\n",
       "      <th>Davidson-Michigan St.</th>\n",
       "      <td>0.07</td>\n",
       "      <td>1</td>\n",
       "      <td>0.5</td>\n",
       "      <td>Michigan St.</td>\n",
       "      <td>Davidson</td>\n",
       "    </tr>\n",
       "    <tr>\n",
       "      <th>Miami FL-USC</th>\n",
       "      <td>1.83</td>\n",
       "      <td>1</td>\n",
       "      <td>0.54</td>\n",
       "      <td>USC</td>\n",
       "      <td>Miami FL</td>\n",
       "    </tr>\n",
       "    <tr>\n",
       "      <th>Providence-South Dakota St.</th>\n",
       "      <td>2.44</td>\n",
       "      <td>2</td>\n",
       "      <td>0.56</td>\n",
       "      <td>Providence</td>\n",
       "      <td>South Dakota St.</td>\n",
       "    </tr>\n",
       "    <tr>\n",
       "      <th>Notre Dame-Rutgers</th>\n",
       "      <td>2.77</td>\n",
       "      <td>2</td>\n",
       "      <td>0.56</td>\n",
       "      <td>Notre Dame</td>\n",
       "      <td>Rutgers</td>\n",
       "    </tr>\n",
       "    <tr>\n",
       "      <th>Bryant-Wright St.</th>\n",
       "      <td>0.08</td>\n",
       "      <td>1</td>\n",
       "      <td>0.5</td>\n",
       "      <td>Wright St.</td>\n",
       "      <td>Bryant</td>\n",
       "    </tr>\n",
       "    <tr>\n",
       "      <th>Texas A&amp;M Corpus Chris-Texas Southern</th>\n",
       "      <td>4.98</td>\n",
       "      <td>3</td>\n",
       "      <td>0.62</td>\n",
       "      <td>Texas Southern</td>\n",
       "      <td>Texas A&amp;M Corpus Chris</td>\n",
       "    </tr>\n",
       "  </tbody>\n",
       "</table>\n",
       "</div>"
      ],
      "text/plain": [
       "                                      ratingDiff marginOfVictory winProb  \\\n",
       "Georgia St.-Gonzaga                        31.13              22    0.98   \n",
       "Kentucky-Saint Peter's                     22.31              15    0.91   \n",
       "Houston-UAB                                12.47               8    0.77   \n",
       "Baylor-Norfolk St.                         26.17              18    0.94   \n",
       "Longwood-Tennessee                         22.76              15    0.92   \n",
       "Akron-UCLA                                 21.36              13    0.88   \n",
       "Montana St.-Texas Tech                     20.83              14     0.9   \n",
       "Auburn-Jacksonville St.                    22.21              15    0.91   \n",
       "Delaware-Villanova                         21.83              14    0.89   \n",
       "Cal St. Fullerton-Duke                     21.61              14     0.9   \n",
       "Iowa-Richmond                              13.71               9    0.81   \n",
       "Purdue-Yale                                20.06              13    0.89   \n",
       "Texas-Virginia Tech                         2.55               1    0.56   \n",
       "Chattanooga-Illinois                        8.32               5    0.69   \n",
       "Connecticut-New Mexico St.                  9.23               6    0.71   \n",
       "Iowa St.-LSU                                5.13               3    0.62   \n",
       "Arkansas-Vermont                            5.95               4    0.64   \n",
       "Murray St.-San Francisco                    1.98               1    0.55   \n",
       "Creighton-San Diego St.                     4.68               3    0.61   \n",
       "Loyola Chicago-Ohio St.                     1.87               1    0.54   \n",
       "Boise St.-Memphis                           0.19               1     0.5   \n",
       "Marquette-North Carolina                    2.04               2    0.55   \n",
       "Colorado St.-Michigan                       0.21               1     0.5   \n",
       "Colgate-Wisconsin                          11.36               7    0.75   \n",
       "Seton Hall-TCU                              0.06               1     0.5   \n",
       "Indiana-Wyoming                             1.84               1    0.54   \n",
       "Davidson-Michigan St.                       0.07               1     0.5   \n",
       "Miami FL-USC                                1.83               1    0.54   \n",
       "Providence-South Dakota St.                 2.44               2    0.56   \n",
       "Notre Dame-Rutgers                          2.77               2    0.56   \n",
       "Bryant-Wright St.                           0.08               1     0.5   \n",
       "Texas A&M Corpus Chris-Texas Southern       4.98               3    0.62   \n",
       "\n",
       "                                                  fav                     dog  \n",
       "Georgia St.-Gonzaga                           Gonzaga             Georgia St.  \n",
       "Kentucky-Saint Peter's                       Kentucky           Saint Peter's  \n",
       "Houston-UAB                                   Houston                     UAB  \n",
       "Baylor-Norfolk St.                             Baylor             Norfolk St.  \n",
       "Longwood-Tennessee                          Tennessee                Longwood  \n",
       "Akron-UCLA                                       UCLA                   Akron  \n",
       "Montana St.-Texas Tech                     Texas Tech             Montana St.  \n",
       "Auburn-Jacksonville St.                        Auburn        Jacksonville St.  \n",
       "Delaware-Villanova                          Villanova                Delaware  \n",
       "Cal St. Fullerton-Duke                           Duke       Cal St. Fullerton  \n",
       "Iowa-Richmond                                    Iowa                Richmond  \n",
       "Purdue-Yale                                    Purdue                    Yale  \n",
       "Texas-Virginia Tech                             Texas           Virginia Tech  \n",
       "Chattanooga-Illinois                         Illinois             Chattanooga  \n",
       "Connecticut-New Mexico St.                Connecticut          New Mexico St.  \n",
       "Iowa St.-LSU                                      LSU                Iowa St.  \n",
       "Arkansas-Vermont                             Arkansas                 Vermont  \n",
       "Murray St.-San Francisco                San Francisco              Murray St.  \n",
       "Creighton-San Diego St.                 San Diego St.               Creighton  \n",
       "Loyola Chicago-Ohio St.                Loyola Chicago                Ohio St.  \n",
       "Boise St.-Memphis                           Boise St.                 Memphis  \n",
       "Marquette-North Carolina               North Carolina               Marquette  \n",
       "Colorado St.-Michigan                    Colorado St.                Michigan  \n",
       "Colgate-Wisconsin                           Wisconsin                 Colgate  \n",
       "Seton Hall-TCU                             Seton Hall                     TCU  \n",
       "Indiana-Wyoming                               Indiana                 Wyoming  \n",
       "Davidson-Michigan St.                    Michigan St.                Davidson  \n",
       "Miami FL-USC                                      USC                Miami FL  \n",
       "Providence-South Dakota St.                Providence        South Dakota St.  \n",
       "Notre Dame-Rutgers                         Notre Dame                 Rutgers  \n",
       "Bryant-Wright St.                          Wright St.                  Bryant  \n",
       "Texas A&M Corpus Chris-Texas Southern  Texas Southern  Texas A&M Corpus Chris  "
      ]
     },
     "execution_count": 2,
     "metadata": {},
     "output_type": "execute_result"
    }
   ],
   "source": [
    "df = pd.read_json(\"diffs.json\").transpose()\n",
    "df"
   ]
  },
  {
   "cell_type": "code",
   "execution_count": 3,
   "id": "c3658cf4",
   "metadata": {},
   "outputs": [
    {
     "data": {
      "text/plain": [
       "Georgia St.-Gonzaga                      31.13\n",
       "Kentucky-Saint Peter's                   22.31\n",
       "Houston-UAB                              12.47\n",
       "Baylor-Norfolk St.                       26.17\n",
       "Longwood-Tennessee                       22.76\n",
       "Akron-UCLA                               21.36\n",
       "Montana St.-Texas Tech                   20.83\n",
       "Auburn-Jacksonville St.                  22.21\n",
       "Delaware-Villanova                       21.83\n",
       "Cal St. Fullerton-Duke                   21.61\n",
       "Iowa-Richmond                            13.71\n",
       "Purdue-Yale                              20.06\n",
       "Texas-Virginia Tech                       2.55\n",
       "Chattanooga-Illinois                      8.32\n",
       "Connecticut-New Mexico St.                9.23\n",
       "Iowa St.-LSU                              5.13\n",
       "Arkansas-Vermont                          5.95\n",
       "Murray St.-San Francisco                  1.98\n",
       "Creighton-San Diego St.                   4.68\n",
       "Loyola Chicago-Ohio St.                   1.87\n",
       "Boise St.-Memphis                         0.19\n",
       "Marquette-North Carolina                  2.04\n",
       "Colorado St.-Michigan                     0.21\n",
       "Colgate-Wisconsin                        11.36\n",
       "Seton Hall-TCU                            0.06\n",
       "Indiana-Wyoming                           1.84\n",
       "Davidson-Michigan St.                     0.07\n",
       "Miami FL-USC                              1.83\n",
       "Providence-South Dakota St.               2.44\n",
       "Notre Dame-Rutgers                        2.77\n",
       "Bryant-Wright St.                         0.08\n",
       "Texas A&M Corpus Chris-Texas Southern     4.98\n",
       "Name: ratingDiff, dtype: float64"
      ]
     },
     "execution_count": 3,
     "metadata": {},
     "output_type": "execute_result"
    }
   ],
   "source": [
    "df['ratingDiff'].astype('float')"
   ]
  },
  {
   "cell_type": "code",
   "execution_count": 4,
   "id": "8f1054ca",
   "metadata": {},
   "outputs": [],
   "source": [
    "diffs = df['ratingDiff'].astype('float').values\n",
    "winProb = df['winProb'].astype('float').values"
   ]
  },
  {
   "cell_type": "code",
   "execution_count": 5,
   "id": "6baff8dd",
   "metadata": {},
   "outputs": [
    {
     "data": {
      "text/plain": [
       "<matplotlib.collections.PathCollection at 0x147ee7610>"
      ]
     },
     "execution_count": 5,
     "metadata": {},
     "output_type": "execute_result"
    },
    {
     "data": {
      "image/png": "[encoded data removed]",
      "text/plain": [
       "<Figure size 432x288 with 1 Axes>"
      ]
     },
     "metadata": {
      "needs_background": "light"
     },
     "output_type": "display_data"
    }
   ],
   "source": [
    "plt.scatter(diffs, winProb)"
   ]
  },
  {
   "cell_type": "code",
   "execution_count": 6,
   "id": "f4a441a5",
   "metadata": {},
   "outputs": [],
   "source": [
    "# https://docs.scipy.org/doc/scipy/reference/generated/scipy.optimize.curve_fit.html\n",
    "# the function to fit\n",
    "def func(x, a, b, c):\n",
    "    return a * np.exp(-b * x) + c"
   ]
  },
  {
   "cell_type": "code",
   "execution_count": 7,
   "id": "9f896c67",
   "metadata": {},
   "outputs": [],
   "source": [
    "popt, pcov = curve_fit(func, diffs, winProb)"
   ]
  },
  {
   "cell_type": "code",
   "execution_count": 8,
   "id": "6f699577",
   "metadata": {},
   "outputs": [
    {
     "data": {
      "image/png": "[encoded data removed]",
      "text/plain": [
       "<Figure size 432x288 with 1 Axes>"
      ]
     },
     "metadata": {
      "needs_background": "light"
     },
     "output_type": "display_data"
    }
   ],
   "source": [
    "plt.scatter(diffs, winProb)\n",
    "xvals = np.linspace(0, 35, 100)\n",
    "plt.plot(xvals, func(xvals, *popt), 'g--', label='fit: a=%5.3f, b=%5.3f, c=%5.3f' % tuple(popt))\n",
    "plt.xlabel('rating differential')\n",
    "plt.ylabel('win probability')\n",
    "plt.show()"
   ]
  },
  {
   "cell_type": "markdown",
   "id": "1df75a81",
   "metadata": {},
   "source": [
    "Cool! So we can approximate kenpom's win probability on a neutral court as:\n",
    "\n",
    "```\n",
    "-0.66888151 * exp(rating_differential * -0.04322173) + 1.16116838\n",
    "```"
   ]
  },
  {
   "cell_type": "code",
   "execution_count": 9,
   "id": "9954953d",
   "metadata": {},
   "outputs": [
    {
     "data": {
      "text/plain": [
       "0.8113965668816993"
      ]
     },
     "execution_count": 9,
     "metadata": {},
     "output_type": "execute_result"
    }
   ],
   "source": [
    "-0.66888151 * np.exp(15 * -0.04322173) + 1.16116838"
   ]
  },
  {
   "cell_type": "code",
   "execution_count": 10,
   "id": "42dfd67d-798e-4ea2-98c5-774d51318a05",
   "metadata": {},
   "outputs": [
    {
     "data": {
      "text/plain": [
       "array([-0.66888151,  0.04322173,  1.16116838])"
      ]
     },
     "execution_count": 10,
     "metadata": {},
     "output_type": "execute_result"
    }
   ],
   "source": [
    "popt"
   ]
  },
  {
   "cell_type": "code",
   "execution_count": 11,
   "id": "d87faa6b-e486-4fc9-bfc3-3c19657e43fe",
   "metadata": {},
   "outputs": [
    {
     "data": {
      "text/plain": [
       "(array([31.13, 22.31, 12.47, 26.17, 22.76, 21.36, 20.83, 22.21, 21.83,\n",
       "        21.61, 13.71, 20.06,  2.55,  8.32,  9.23,  5.13,  5.95,  1.98,\n",
       "         4.68,  1.87,  0.19,  2.04,  0.21, 11.36,  0.06,  1.84,  0.07,\n",
       "         1.83,  2.44,  2.77,  0.08,  4.98]),\n",
       " array([22., 15.,  8., 18., 15., 13., 14., 15., 14., 14.,  9., 13.,  1.,\n",
       "         5.,  6.,  3.,  4.,  1.,  3.,  1.,  1.,  2.,  1.,  7.,  1.,  1.,\n",
       "         1.,  1.,  2.,  2.,  1.,  3.]))"
      ]
     },
     "execution_count": 11,
     "metadata": {},
     "output_type": "execute_result"
    }
   ],
   "source": [
    "margin = df['marginOfVictory'].astype('double').values\n",
    "diffs = df['ratingDiff'].astype('double').values\n",
    "diffs, margin"
   ]
  },
  {
   "cell_type": "code",
   "execution_count": 12,
   "id": "31b1f48c-2f0e-484c-b797-af7d6e09c2ac",
   "metadata": {},
   "outputs": [
    {
     "data": {
      "text/plain": [
       "<matplotlib.collections.PathCollection at 0x1556136a0>"
      ]
     },
     "execution_count": 12,
     "metadata": {},
     "output_type": "execute_result"
    },
    {
     "data": {
      "image/png": "[encoded data removed]",
      "text/plain": [
       "<Figure size 432x288 with 1 Axes>"
      ]
     },
     "metadata": {
      "needs_background": "light"
     },
     "output_type": "display_data"
    }
   ],
   "source": [
    "plt.scatter(diffs, margin)"
   ]
  },
  {
   "cell_type": "code",
   "execution_count": 13,
   "id": "e3dedd51-a65c-45fd-aa62-cd2ae7ee29f4",
   "metadata": {},
   "outputs": [
    {
     "data": {
      "text/plain": [
       "array([0.00632392, 0.49313769, 0.56785283])"
      ]
     },
     "execution_count": 13,
     "metadata": {},
     "output_type": "execute_result"
    }
   ],
   "source": [
    "# for the margin fit we'll use an exponential function\n",
    "def f2(x, a, b, c):\n",
    "    return a*x**2 + b*x + c\n",
    "\n",
    "popt_margin, pcov_margin = curve_fit(f2, diffs, margin)\n",
    "popt_margin"
   ]
  },
  {
   "cell_type": "code",
   "execution_count": 14,
   "id": "6a5b8981-a3c9-4d7e-bce6-41b515ebf541",
   "metadata": {},
   "outputs": [
    {
     "data": {
      "image/png": "[encoded data removed]",
      "text/plain": [
       "<Figure size 432x288 with 1 Axes>"
      ]
     },
     "metadata": {
      "needs_background": "light"
     },
     "output_type": "display_data"
    }
   ],
   "source": [
    "plt.scatter(diffs, margin)\n",
    "xvals = np.linspace(0, 35, 100)\n",
    "plt.plot(xvals, f2(xvals, *popt_margin), 'g--', label='fit: a=%5.3f, b=%5.3f, c=%5.3f' % tuple(popt_margin))\n",
    "plt.xlabel('rating differential')\n",
    "plt.ylabel('margin of victory')\n",
    "plt.show()"
   ]
  },
  {
   "cell_type": "code",
   "execution_count": 15,
   "id": "23c8c869-4110-4c6d-8121-0d265fc73f29",
   "metadata": {},
   "outputs": [
    {
     "data": {
      "text/plain": [
       "6.947810516722887"
      ]
     },
     "execution_count": 15,
     "metadata": {},
     "output_type": "execute_result"
    }
   ],
   "source": [
    "# in 99, kenpom had Duke at 42.7 and UConn at 31.4\n",
    "f2(42.7-31.4, *popt_margin)"
   ]
  },
  {
   "cell_type": "markdown",
   "id": "790420da-cd3d-49b2-a55c-76edc83fa8ee",
   "metadata": {},
   "source": [
    "So we would expect '99 duke to be favored by about 7 points against the '99 huskies"
   ]
  },
  {
   "cell_type": "code",
   "execution_count": null,
   "id": "953de731-4af8-4418-aee0-2f30d1ffee2e",
   "metadata": {},
   "outputs": [],
   "source": []
  }
 ],
 "metadata": {
  "kernelspec": {
   "display_name": "Python 3 (ipykernel)",
   "language": "python",
   "name": "python3"
  },
  "language_info": {
   "codemirror_mode": {
    "name": "ipython",
    "version": 3
   },
   "file_extension": ".py",
   "mimetype": "text/x-python",
   "name": "python",
   "nbconvert_exporter": "python",
   "pygments_lexer": "ipython3",
   "version": "3.10.0"
  }
 },
 "nbformat": 4,
 "nbformat_minor": 5
}
