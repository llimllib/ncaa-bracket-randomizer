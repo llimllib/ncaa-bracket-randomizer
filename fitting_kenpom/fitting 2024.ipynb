{
 "cells": [
  {
   "cell_type": "code",
   "execution_count": 60,
   "id": "ccd60701-c824-42c9-a356-43a312a0ce27",
   "metadata": {},
   "outputs": [],
   "source": [
    "import csv\n",
    "import re\n",
    "import json\n",
    "\n",
    "import pandas as pd\n",
    "import numpy as np\n",
    "import scipy\n",
    "import matplotlib.pyplot as plt\n",
    "from scipy.optimize import curve_fit"
   ]
  },
  {
   "cell_type": "code",
   "execution_count": 66,
   "id": "038bab4a-1f12-4ece-9c71-e5928eb3303c",
   "metadata": {},
   "outputs": [],
   "source": [
    "rawprobs = \"\"\"                       Rd2   Swt16  Elite8 Final4 Final  Champ\n",
    " 1S  Houston           96.2   76.8   54.4   41.2   26.8   16.4   \n",
    " 1E  Connecticut       98.2   81.0   52.7   36.5   25.8   16.3   \n",
    " 1MW Purdue            98.2   77.4   56.9   36.8   21.5   12.0   \n",
    " 4E  Auburn            88.1   66.9   32.8   20.6   13.2    7.4   \n",
    " 2W  Arizona           96.4   70.1   46.4   28.6   13.4    6.8   \n",
    " 2MW Tennessee         95.6   67.5   43.6   23.1   11.9    5.7   \n",
    " 2E  Iowa St.          92.8   69.6   43.2   19.2   11.3    5.7   \n",
    " 1W  North Carolina    98.1   62.3   38.2   20.6    8.7    4.0   \n",
    " 4S  Duke              84.9   55.5   23.7   14.7    7.3    3.3   \n",
    " 3MW Creighton         86.5   61.0   30.8   14.5    6.6    2.8   \n",
    " 2S  Marquette         91.0   56.6   34.7   13.9    6.2    2.5   \n",
    " 3E  Illinois          86.9   55.0   28.4   10.8    5.6    2.5   \n",
    " 3W  Baylor            88.3   53.2   24.6   12.5    4.7    1.9   \n",
    " 4W  Alabama           84.1   52.0   25.8   12.5    4.6    1.9   \n",
    " 5MW Gonzaga           70.2   43.4   16.9    8.0    3.3    1.3   \n",
    " 3S  Kentucky          86.7   51.0   24.9    8.3    3.2    1.1   \n",
    " 6E  BYU               76.3   36.4   16.3    5.1    2.3    0.9   \n",
    " 5S  Wisconsin         68.0   31.1   10.5    5.4    2.2    0.8   \n",
    " 5W  Saint Mary's      63.5   31.0   13.6    5.8    1.9    0.7   \n",
    " 4MW Kansas            73.4   37.0   12.4    5.2    1.9    0.6   \n",
    " 9W  Michigan St.      54.8   21.9   10.9    4.6    1.5    0.6   \n",
    " 6S  Texas Tech        63.1   32.2   14.6    4.6    1.6    0.5   \n",
    " 5E  San Diego St.     79.2   26.6    8.1    3.3    1.4    0.5   \n",
    "11W  New Mexico        55.1   25.8    9.7    4.0    1.2    0.4   \n",
    " 7MW Texas             58.1   20.0    9.4    3.3    1.2    0.4   \n",
    " 7S  Florida           51.7   22.0   11.0    3.3    1.1    0.3   \n",
    " 8S  Nebraska          55.0   13.1    5.4    2.5    0.9    0.3   \n",
    " 8W  Mississippi St.   45.2   15.8    7.1    2.7    0.8    0.2   \n",
    " 7W  Dayton            51.1   15.4    6.7    2.6    0.7    0.2   \n",
    " 9MW TCU               55.4   13.3    6.2    2.3    0.7    0.2   \n",
    "10S  Colorado          27.9   12.2    6.2    1.9    0.7    0.2   \n",
    " 6W  Clemson           44.9   19.1    6.5    2.5    0.6    0.2   \n",
    "10W  Nevada            48.9   14.0    5.9    2.2    0.6    0.2   \n",
    " 6MW South Carolina    53.7   19.8    6.4    1.9    0.5    0.1   \n",
    " 7E  Washington St.    53.5   16.3    6.1    1.4    0.5    0.1   \n",
    " 9S  Texas A&M         45.0    9.5    3.5    1.4    0.4    0.1   \n",
    "10MW Colorado St.      27.3    8.4    3.7    1.2    0.4    0.1   \n",
    " 9E  Northwestern      49.3    9.4    2.8    0.9    0.3    0.08  \n",
    " 8E  Florida Atlantic  50.7    9.3    2.8    0.9    0.3    0.08  \n",
    "10S  Boise St.         20.4    7.9    3.6    1.0    0.3    0.08  \n",
    " 8MW Utah St.          44.6    9.1    3.7    1.2    0.3    0.08  \n",
    "11MW Oregon            46.3   15.2    4.3    1.1    0.3    0.06  \n",
    "10E  Drake             46.5   12.5    4.2    0.8    0.2    0.06  \n",
    "12W  Grand Canyon      36.5   12.6    3.7    1.1    0.2    0.05  \n",
    "11S  N.C. State        36.9   14.0    4.5    1.0    0.2    0.05  \n",
    "12MW McNeese St.       29.8   12.2    2.7    0.8    0.2    0.04  \n",
    "12S  James Madison     32.0    9.3    1.8    0.6    0.1    0.03  \n",
    "10MW Virginia          14.7    3.5    1.2    0.3    0.08   0.02  \n",
    "13MW Samford           26.6    7.4    1.2    0.2    0.04   0.007 \n",
    "11E  Duquesne          23.7    5.6    1.2    0.2    0.03   0.005 \n",
    "13E  Yale              11.9    4.0    0.6    0.1    0.02   0.005 \n",
    "13S  Vermont           15.1    4.1    0.5    0.1    0.02   0.003 \n",
    "13W  Charleston        15.9    4.4    0.8    0.1    0.01   0.002 \n",
    "12E  UAB               20.8    2.5    0.3    0.04   0.006  0.001 \n",
    "14MW Akron             13.5    4.0    0.6    0.07   0.009  <.001 \n",
    "14E  Morehead St.      13.1    3.0    0.5    0.04   0.006  <.001 \n",
    "14S  Oakland           13.3    2.8    0.4    0.03   0.004  <.001 \n",
    "14W  Colgate           11.7    1.9    0.2    0.02   0.002  <.001  \n",
    "15S  Western Kentucky   9.0    1.4    0.2    0.02   0.002  <.001 \n",
    "15E  South Dakota St.   7.2    1.6    0.2    0.01   0.002  <.001 \n",
    "16S  Longwood           3.8    0.6    0.07   0.009  <.001  <.001\n",
    "15W  Long Beach St.     3.6    0.5    0.06   0.005  <.001  <.001 \n",
    "15MW Saint Peter's      4.4    0.6    0.07   0.004  <.001  <.001 \n",
    "16MW Montana St.        1.2    0.1    0.01   <.001  <.001  <.001 \n",
    "16E  Stetson            1.8    0.2    0.01   <.001  <.001  <.001 \n",
    "16MW Grambling St.      0.6    0.04   0.002  <.001  <.001  <.001 \n",
    "16W  Howard             1.0    0.05   0.002  <.001  <.001  <.001 \n",
    "16W  Wagner             0.9    0.05   0.002  <.001  <.001  <.001\n",
    "\"\"\""
   ]
  },
  {
   "cell_type": "code",
   "execution_count": 97,
   "id": "b8fadd4d-647c-48c9-b0b6-d70b816e8a34",
   "metadata": {},
   "outputs": [
    {
     "data": {
      "text/plain": [
       "{'Houston': 0.9620000000000001,\n",
       " 'Connecticut': 0.982,\n",
       " 'Purdue': 0.982,\n",
       " 'Auburn': 0.8809999999999999,\n",
       " 'Arizona': 0.9640000000000001,\n",
       " 'Tennessee': 0.956,\n",
       " 'Iowa St.': 0.9279999999999999,\n",
       " 'North Carolina': 0.981,\n",
       " 'Duke': 0.8490000000000001,\n",
       " 'Creighton': 0.865,\n",
       " 'Marquette': 0.91,\n",
       " 'Illinois': 0.8690000000000001,\n",
       " 'Baylor': 0.883,\n",
       " 'Alabama': 0.841,\n",
       " 'Gonzaga': 0.7020000000000001,\n",
       " 'Kentucky': 0.867,\n",
       " 'BYU': 0.763,\n",
       " 'Wisconsin': 0.68,\n",
       " \"Saint Mary's\": 0.635,\n",
       " 'Kansas': 0.7340000000000001,\n",
       " 'Michigan St.': 0.5479999999999999,\n",
       " 'Texas Tech': 0.631,\n",
       " 'San Diego St.': 0.792,\n",
       " 'New Mexico': 0.551,\n",
       " 'Texas': 0.581,\n",
       " 'Florida': 0.517,\n",
       " 'Nebraska': 0.55,\n",
       " 'Mississippi St.': 0.452,\n",
       " 'Dayton': 0.511,\n",
       " 'TCU': 0.5539999999999999,\n",
       " 'Colorado': 0.27899999999999997,\n",
       " 'Clemson': 0.449,\n",
       " 'Nevada': 0.489,\n",
       " 'South Carolina': 0.537,\n",
       " 'Washington St.': 0.535,\n",
       " 'Texas A&M': 0.45,\n",
       " 'Colorado St.': 0.273,\n",
       " 'Northwestern': 0.493,\n",
       " 'Florida Atlantic': 0.507,\n",
       " 'Boise St.': 0.204,\n",
       " 'Utah St.': 0.446,\n",
       " 'Oregon': 0.46299999999999997,\n",
       " 'Drake': 0.465,\n",
       " 'Grand Canyon': 0.365,\n",
       " 'N.C. State': 0.369,\n",
       " 'McNeese St.': 0.298,\n",
       " 'James Madison': 0.32,\n",
       " 'Virginia': 0.147,\n",
       " 'Samford': 0.266,\n",
       " 'Duquesne': 0.237,\n",
       " 'Yale': 0.11900000000000001,\n",
       " 'Vermont': 0.151,\n",
       " 'Charleston': 0.159,\n",
       " 'UAB': 0.20800000000000002,\n",
       " 'Akron': 0.135,\n",
       " 'Morehead St.': 0.131,\n",
       " 'Oakland': 0.133,\n",
       " 'Colgate': 0.11699999999999999,\n",
       " 'Western Kentuck': 0.09,\n",
       " 'South Dakota St': 0.07200000000000001,\n",
       " 'Longwood': 0.038,\n",
       " 'Long Beach St.': 0.036000000000000004,\n",
       " \"Saint Peter's\": 0.044000000000000004,\n",
       " 'Montana St.': 0.012,\n",
       " 'Stetson': 0.018000000000000002,\n",
       " 'Grambling St.': 0.006,\n",
       " 'Howard': 0.01,\n",
       " 'Wagner': 0.009000000000000001}"
      ]
     },
     "execution_count": 97,
     "metadata": {},
     "output_type": "execute_result"
    }
   ],
   "source": [
    "probs = []\n",
    "for line in rawprobs.split(\"\\n\")[1:]:\n",
    "    if not line: continue\n",
    "    line = line.strip()\n",
    "    sr = line[:4].strip()\n",
    "    seed, region = re.split(r'(\\d+)', sr)[1:]\n",
    "    team = line[4:20].strip()\n",
    "    prob = float(re.findall(r\"\\d+\\.\\d+\", line)[0])\n",
    "    probs.append((int(seed), region, team, float(prob)/100))\n",
    "frprobs = {p[2]: p[3] for p in probs}\n",
    "frprobs"
   ]
  },
  {
   "cell_type": "code",
   "execution_count": 98,
   "id": "fbe4c917-a62c-4276-aabc-fa1e9da1b73b",
   "metadata": {},
   "outputs": [
    {
     "data": {
      "text/plain": [
       "([('Connecticut', 'Stetson'),\n",
       "  ('Houston', 'Longwood'),\n",
       "  ('Purdue', 'Grambling St.'),\n",
       "  ('North Carolina', 'Howard'),\n",
       "  ('Iowa St.', 'South Dakota St.'),\n",
       "  ('Marquette', 'Western Kentucky'),\n",
       "  ('Tennessee', \"Saint Peter's\"),\n",
       "  ('Arizona', 'Long Beach St.'),\n",
       "  ('Illinois', 'Morehead St.'),\n",
       "  ('Kentucky', 'Oakland'),\n",
       "  ('Creighton', 'Akron'),\n",
       "  ('Baylor', 'Colgate'),\n",
       "  ('Auburn', 'Yale'),\n",
       "  ('Duke', 'Vermont'),\n",
       "  ('Kansas', 'Samford'),\n",
       "  ('Alabama', 'Charleston'),\n",
       "  ('San Diego St.', 'UAB'),\n",
       "  ('Wisconsin', 'James Madison'),\n",
       "  ('Gonzaga', 'McNeese St.'),\n",
       "  (\"Saint Mary's\", 'Grand Canyon'),\n",
       "  ('BYU', 'Duquesne'),\n",
       "  ('Texas Tech', 'N.C. State'),\n",
       "  ('South Carolina', 'Oregon'),\n",
       "  ('Clemson', 'New Mexico'),\n",
       "  ('Washington St.', 'Drake'),\n",
       "  ('Florida', 'Colorado'),\n",
       "  ('Texas', 'Colorado St.'),\n",
       "  ('Dayton', 'Nevada'),\n",
       "  ('Florida Atlantic', 'Northwestern'),\n",
       "  ('Nebraska', 'Texas A&M'),\n",
       "  ('Utah St.', 'TCU'),\n",
       "  ('Mississippi St.', 'Michigan St.')],\n",
       " 32)"
      ]
     },
     "execution_count": 98,
     "metadata": {},
     "output_type": "execute_result"
    }
   ],
   "source": [
    "bracket = json.load(open(\"bracket24.json\"))\n",
    "rd1 = [(bracket[region][str(seed)], bracket[region][str(17-seed)]) for seed in range(1,9) for region in ['east', 'south', 'midwest', 'west']]\n",
    "rd1, len(rd1)"
   ]
  },
  {
   "cell_type": "code",
   "execution_count": 99,
   "id": "b9b541e4-d30b-4ae5-8f6f-dde2c30f50a1",
   "metadata": {},
   "outputs": [
    {
     "data": {
      "text/plain": [
       "[('Connecticut', 'Stetson', 36.31724, 0.982),\n",
       " ('Houston', 'Longwood', 30.762552000000003, 0.9620000000000001),\n",
       " ('Purdue', 'Grambling St.', 36.92451, 0.982),\n",
       " ('North Carolina', 'Howard', 32.894999999999996, 0.981),\n",
       " ('Iowa St.', 'South Dakota St.', 23.74509, 0.9279999999999999),\n",
       " ('Marquette', 'Western Kentucky', 19.67689, 0.91),\n",
       " ('Tennessee', \"Saint Peter's\", 28.295650000000002, 0.956),\n",
       " ('Arizona', 'Long Beach St.', 26.63322527, 0.9640000000000001),\n",
       " ('Illinois', 'Morehead St.', 18.3083, 0.8690000000000001),\n",
       " ('Kentucky', 'Oakland', 17.224829999999997, 0.867),\n",
       " ('Creighton', 'Akron', 18.470119999999998, 0.865),\n",
       " ('Baylor', 'Colgate', 20.15478, 0.883),\n",
       " ('Auburn', 'Yale', 18.52718, 0.8809999999999999),\n",
       " ('Duke', 'Vermont', 17.91182, 0.8490000000000001),\n",
       " ('Kansas', 'Samford', 9.443290000000001, 0.7340000000000001),\n",
       " ('Alabama', 'Charleston', 14.90453, 0.841),\n",
       " ('San Diego St.', 'UAB', 13.84658, 0.792),\n",
       " ('Wisconsin', 'James Madison', 7.885699999999998, 0.68),\n",
       " ('Gonzaga', 'McNeese St.', 8.732, 0.7020000000000001),\n",
       " (\"Saint Mary's\", 'Grand Canyon', 5.9795, 0.635),\n",
       " ('BYU', 'Duquesne', 12.004649999999998, 0.763),\n",
       " ('Texas Tech', 'N.C. State', 5.483999999999998, 0.631),\n",
       " ('South Carolina', 'Oregon', 1.6059999999999999, 0.537),\n",
       " ('Clemson', 'New Mexico', -2.0116000000000014, 0.449),\n",
       " ('Washington St.', 'Drake', 1.5236999999999998, 0.535),\n",
       " ('Florida', 'Colorado', 0.16489999999999938, 0.517),\n",
       " ('Texas', 'Colorado St.', 1.7972000000000001, 0.581),\n",
       " ('Dayton', 'Nevada', 0.4542999999999999, 0.511),\n",
       " ('Florida Atlantic', 'Northwestern', 0.33550000000000146, 0.507),\n",
       " ('Nebraska', 'Texas A&M', 2.0493999999999986, 0.55),\n",
       " ('Utah St.', 'TCU', -2.176499999999999, 0.446),\n",
       " ('Mississippi St.', 'Michigan St.', -2.078800000000001, 0.452)]"
      ]
     },
     "execution_count": 99,
     "metadata": {},
     "output_type": "execute_result"
    }
   ],
   "source": [
    "kenpom = {t['TeamName']: t for t in list(csv.DictReader(open(\"kenpom_2024.csv\")))}\n",
    "data = [(a, b, float(kenpom[a]['AdjEM']) - float(kenpom[b]['AdjEM']), frprobs[a]) for a, b in rd1]\n",
    "data"
   ]
  },
  {
   "cell_type": "code",
   "execution_count": 100,
   "id": "ff8af59d-ad6a-40c1-8c03-1c92dddf42ff",
   "metadata": {},
   "outputs": [
    {
     "data": {
      "text/plain": [
       "<matplotlib.collections.PathCollection at 0x11a434050>"
      ]
     },
     "execution_count": 100,
     "metadata": {},
     "output_type": "execute_result"
    },
    {
     "data": {
      "image/png": "[encoded data removed]",
      "text/plain": [
       "<Figure size 640x480 with 1 Axes>"
      ]
     },
     "metadata": {},
     "output_type": "display_data"
    }
   ],
   "source": [
    "diffs = [x[2] for x in data]\n",
    "winProb = [x[3] for x in data]\n",
    "plt.xlabel('rating differential')\n",
    "plt.ylabel('win probability')\n",
    "plt.scatter(diffs, winProb)"
   ]
  },
  {
   "cell_type": "code",
   "execution_count": 101,
   "id": "4dbc0d00-4aac-4352-8c01-5e70239b5ec7",
   "metadata": {},
   "outputs": [],
   "source": [
    "# https://docs.scipy.org/doc/scipy/reference/generated/scipy.optimize.curve_fit.html\n",
    "# the function to fit\n",
    "def func(x, a, b, c):\n",
    "    return a * np.exp(-b * x) + c"
   ]
  },
  {
   "cell_type": "code",
   "execution_count": 102,
   "id": "3078e31e-eb02-4118-9674-d743ed533b60",
   "metadata": {},
   "outputs": [],
   "source": [
    "popt, pcov = curve_fit(func, diffs, winProb)"
   ]
  },
  {
   "cell_type": "code",
   "execution_count": 103,
   "id": "8b722a03-0a5d-45e4-85b2-cc470c4d98d7",
   "metadata": {},
   "outputs": [
    {
     "data": {
      "image/png": "[encoded data removed]",
      "text/plain": [
       "<Figure size 640x480 with 1 Axes>"
      ]
     },
     "metadata": {},
     "output_type": "display_data"
    }
   ],
   "source": [
    "plt.scatter(diffs, winProb)\n",
    "xvals = np.linspace(0, 35, 100)\n",
    "plt.plot(xvals, func(xvals, *popt), 'g--', label='fit: a=%5.3f, b=%5.3f, c=%5.3f' % tuple(popt))\n",
    "plt.xlabel('rating differential')\n",
    "plt.ylabel('win probability')\n",
    "plt.show()"
   ]
  },
  {
   "cell_type": "code",
   "execution_count": 104,
   "id": "982b715a-a215-473a-b8fe-1fc7187f143e",
   "metadata": {},
   "outputs": [
    {
     "data": {
      "text/plain": [
       "array([-0.58845638,  0.05128214,  1.09208311])"
      ]
     },
     "execution_count": 104,
     "metadata": {},
     "output_type": "execute_result"
    }
   ],
   "source": [
    "popt"
   ]
  },
  {
   "cell_type": "markdown",
   "id": "a6588584-bb87-4199-ba16-7732750bb149",
   "metadata": {},
   "source": [
    "- two years ago: `array([-0.66888151,  0.04322173,  1.16116838])`\n",
    "- last year: `array([-6.80512162e+01,  3.96407147e-02,  1.18560240e+02])`\n",
    "\n",
    "```\n",
    "-0.5885 * exp(rating_differential * -0.0513) + 1.092\n",
    "```"
   ]
  },
  {
   "cell_type": "code",
   "execution_count": null,
   "id": "8e0921a4-7ff3-47b8-b7cf-6ceb69ed903f",
   "metadata": {},
   "outputs": [],
   "source": []
  }
 ],
 "metadata": {
  "kernelspec": {
   "display_name": "Python 3 (ipykernel)",
   "language": "python",
   "name": "python3"
  },
  "language_info": {
   "codemirror_mode": {
    "name": "ipython",
    "version": 3
   },
   "file_extension": ".py",
   "mimetype": "text/x-python",
   "name": "python",
   "nbconvert_exporter": "python",
   "pygments_lexer": "ipython3",
   "version": "3.12.2"
  }
 },
 "nbformat": 4,
 "nbformat_minor": 5
}
